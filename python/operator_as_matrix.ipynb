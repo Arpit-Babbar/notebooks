{
 "cells": [
  {
   "cell_type": "code",
   "execution_count": 1,
   "metadata": {},
   "outputs": [],
   "source": [
    "import numpy as np"
   ]
  },
  {
   "source": [
    "To convert left and right action operators $T_A(B) = AB, U_A(B) = BA$ into a matrix, we convert it to a fourth order tensor and then use `np.shape` to make it into a matrix. First, we have an inefficient readable version and then the efficient version."
   ],
   "cell_type": "markdown",
   "metadata": {}
  },
  {
   "cell_type": "code",
   "execution_count": 38,
   "metadata": {},
   "outputs": [],
   "source": [
    "#kronecker delta function\n",
    "def kron_delta(i,j):\n",
    "  if i==j:\n",
    "    return 1.0\n",
    "  else:\n",
    "    return 0.0\n",
    "#Converts T_A(B)=AB to 4th order tensor\n",
    "#Make it more efficient by looping only over l==j.\n",
    "def l_operator2tensor(A):\n",
    "    n=np.shape(A)[0]-1\n",
    "    C = np.zeros(((n+1),(n+1),(n+1),(n+1)))\n",
    "    for i in range(0,n+1):\n",
    "      for j in range(0,n+1):\n",
    "        for k in range(0,n+1):\n",
    "          for l in range(0,n+1):\n",
    "              C[i,j,k,l]=A[i,k]*kron_delta(l,j)\n",
    "    return C\n",
    "#Converts T_A(B)=BA to 4th order tensor\n",
    "#Make it more efficient by looping only over l==j.\n",
    "def r_operator2tensor(A):\n",
    "    n=np.shape(A)[0]-1\n",
    "    C = np.zeros(((n+1),(n+1),(n+1),(n+1)))\n",
    "    for i in range(0,n+1):\n",
    "      for j in range(0,n+1):\n",
    "        for k in range(0,n+1):\n",
    "          for l in range(0,n+1):\n",
    "              C[i,j,k,l]=A[l,j]*kron_delta(i,k)\n",
    "    return C\n",
    "#Converts right operator to 4th order tensor\n",
    "def tensor2matrix(C):\n",
    "    n=np.shape(A)[0]-1\n",
    "    C = np.reshape(C,((n+1)**2,(n+1)**2))\n",
    "    return C\n",
    "def l_operator2matrix(A):\n",
    "    C = l_operator2tensor(A)\n",
    "    C = tensor2matrix(C)\n",
    "    return C\n",
    "def r_operator2matrix(A):\n",
    "    C = r_operator2tensor(A)\n",
    "    C = tensor2matrix(C)\n",
    "    return C"
   ]
  },
  {
   "source": [
    "# Efficient version"
   ],
   "cell_type": "markdown",
   "metadata": {}
  },
  {
   "cell_type": "code",
   "execution_count": 39,
   "metadata": {},
   "outputs": [],
   "source": [
    "#Converts T_A(B)=AB to 4th order tensor\n",
    "def l_operator2tensor(A):\n",
    "    n   = np.shape(A)[0]\n",
    "    C   = np.zeros((n,n,n,n))\n",
    "    diag= np.arange(0,n)\n",
    "    C[:,diag,:,diag]=A[:,:] #C to be updated for j=l\n",
    "    return C\n",
    "#Converts T_A(B)=BA to 4th order tensor\n",
    "def r_operator2tensor(A):\n",
    "    n   = np.shape(A)[0]\n",
    "    C   = np.zeros((n,n,n,n))\n",
    "    diag=np.arange(0,n)\n",
    "    C[diag,:,diag,:]=A.T[:,:]\n",
    "    return C\n",
    "def tensor2matrix(C):\n",
    "    n = np.shape(A)[0]\n",
    "    C = np.reshape(C,(n**2,n**2))\n",
    "    return C\n",
    "def l_operator2matrix(A):\n",
    "    C = l_operator2tensor(A)\n",
    "    C = tensor2matrix(C)\n",
    "    return C\n",
    "def r_operator2matrix(A):\n",
    "    C = r_operator2tensor(A)\n",
    "    C = tensor2matrix(C)\n",
    "    return C"
   ]
  },
  {
   "cell_type": "code",
   "execution_count": 42,
   "metadata": {},
   "outputs": [
    {
     "output_type": "stream",
     "name": "stdout",
     "text": [
      "[[1 2]\n [3 4]]\n[[1. 0. 2. 0.]\n [0. 1. 0. 2.]\n [3. 0. 4. 0.]\n [0. 3. 0. 4.]]\n[[1. 3. 0. 0.]\n [2. 4. 0. 0.]\n [0. 0. 1. 3.]\n [0. 0. 2. 4.]]\n"
     ]
    }
   ],
   "source": [
    "n = 2\n",
    "A = np.arange(1,n**2+1)\n",
    "A = np.reshape(A,((n,n)))\n",
    "print(A)\n",
    "print(l_operator2matrix(A))\n",
    "print(r_operator2matrix(A))"
   ]
  },
  {
   "source": [
    "This approach is still inefficient in our case because we can see a very clear pattern in the output. We should prove that pattern and use it to create these matrices. "
   ],
   "cell_type": "markdown",
   "metadata": {}
  }
 ],
 "metadata": {
  "colab": {
   "include_colab_link": true,
   "name": "operator_as_matrix.ipynb",
   "provenance": []
  },
  "kernelspec": {
   "display_name": "Python 3",
   "language": "python",
   "name": "python3"
  },
  "language_info": {
   "codemirror_mode": {
    "name": "ipython",
    "version": 3
   },
   "file_extension": ".py",
   "mimetype": "text/x-python",
   "name": "python",
   "nbconvert_exporter": "python",
   "pygments_lexer": "ipython3",
   "version": "3.8.5-final"
  }
 },
 "nbformat": 4,
 "nbformat_minor": 1
}