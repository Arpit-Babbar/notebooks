{
 "cells": [
  {
   "cell_type": "markdown",
   "metadata": {},
   "source": [
    "Our target is to get the degree 2 polynomials $H_i^L, H_i^C, H_i^R$ using $(i-2,i-1,i),(i-1,i,i+1), (i,i+1,i+2)$ respectively.\n",
    "\n",
    "So, we create a function that generates symbolic polynomial like that. Basically, if we give $\\{-1,0,1\\}$ as the point, we would be creating a polynomial $H$ such that \n",
    "$$\n",
    "\\int_{-3/2}^{-1/2} H = f_{i-1}, \\quad \\int_{-1/2}^{1/2} H = f_{i}, \\quad  \\int_{1/2}^{3/2} H = f_{i+1}\n",
    "$$\n",
    "where $f_j$'s would also be symbolic. In general, a degree $k$ approximation would require inputs $\\{i-j-k,\\dots,i-j,\\dots,i-j+k\\}$. Then, we would enforce the condition, for each $l$ in these indices, \n",
    "$$\n",
    "\\int_{l-1/2}^{l+1/2} H = f_l\n",
    "$$"
   ]
  },
  {
   "cell_type": "markdown",
   "metadata": {},
   "source": [
    "We'd use the following sympy resources \n",
    "\n",
    "https://docs.sympy.org/latest/modules/integrals/integrals.html\n",
    "\n",
    "https://medium.com/swlh/basics-of-solving-equations-in-sympy-ad770c14debd\n",
    "\n",
    "https://stackoverflow.com/questions/25985338/solving-a-system-of-algebraic-equations-with-sympy"
   ]
  },
  {
   "cell_type": "markdown",
   "metadata": {},
   "source": [
    "First, let's see whether we can successfully generate one symbolic equation out of \n",
    "$$\n",
    "\\int_{l-1/2}^{l+1/2} H = f_l.\n",
    "$$"
   ]
  },
  {
   "cell_type": "code",
   "execution_count": 55,
   "metadata": {},
   "outputs": [],
   "source": [
    "from sympy import *\n",
    "import numpy as np"
   ]
  },
  {
   "cell_type": "code",
   "execution_count": 2,
   "metadata": {},
   "outputs": [
    {
     "data": {
      "image/png": "[encoded data removed]",
      "text/latex": [
       "$\\displaystyle 1.0 a_{2} + 2.0 b_{2} + 4.0 c_{2}$"
      ],
      "text/plain": [
       "1.0*a2 + 2.0*b2 + 4.0*c2"
      ]
     },
     "execution_count": 2,
     "metadata": {},
     "output_type": "execute_result"
    }
   ],
   "source": [
    "\n",
    "l = 2\n",
    "init_printing(use_unicode=False, wrap_line=False)\n",
    "xi  = Symbol('xi')\n",
    "al = Symbol('a'+str(l))\n",
    "integrand0 = al\n",
    "bl = Symbol('b'+str(l))\n",
    "bl = bl*xi\n",
    "integrand0 += bl\n",
    "cl = Symbol('c'+str(l))\n",
    "cl = cl*(xi**2-1.0/12.0)\n",
    "integrand0 += cl\n",
    "integrate(integrand0,(xi,(l-1/2,l+1/2)))"
   ]
  },
  {
   "cell_type": "markdown",
   "metadata": {},
   "source": [
    "The way we have written it, it appears that we have the freedom to write both the degree of approximation and the points in the function. However, the names of symbols `a,b,c` isn't good. Let's try to replace it with something else."
   ]
  },
  {
   "cell_type": "code",
   "execution_count": 2,
   "metadata": {},
   "outputs": [
    {
     "data": {
      "image/png": "[encoded data removed]",
      "text/latex": [
       "$\\displaystyle 1.0 a_{0,0}$"
      ],
      "text/plain": [
       "1.0*a_{0,0}"
      ]
     },
     "execution_count": 2,
     "metadata": {},
     "output_type": "execute_result"
    }
   ],
   "source": [
    "from sympy import *\n",
    "l = 0\n",
    "init_printing(use_unicode=False, wrap_line=False)\n",
    "xi  = Symbol('xi')\n",
    "sym = Symbol('a_{'+str(0)+','+str(l)+'}')\n",
    "integrand0 = sym\n",
    "sym = Symbol('a_{'+str(1)+','+str(l)+'}')\n",
    "sym = sym*xi\n",
    "integrand0 += sym\n",
    "sym = Symbol('a_{'+str(2)+','+str(l)+'}')\n",
    "sym = sym*(xi**2-1.0/12.0)\n",
    "integrand0 += sym\n",
    "integrate(integrand0,(xi,(l-1/2,l+1/2)))"
   ]
  },
  {
   "cell_type": "markdown",
   "metadata": {},
   "source": [
    "Yes, this is exactly the abstraction we needed!\n",
    "Now, we create a function that generates for degree $k$, the condition centred at $l$"
   ]
  },
  {
   "cell_type": "code",
   "execution_count": 19,
   "metadata": {},
   "outputs": [],
   "source": [
    "def gen_condn(degree, centre):\n",
    "    k = degree\n",
    "    l = centre\n",
    "    xi  = Symbol('xi')\n",
    "    init_printing(use_unicode=False, wrap_line=False)\n",
    "    integrand = 0*xi\n",
    "    for i in range(0,k+1):\n",
    "        sym = Symbol('a_{'+str(i)+','+str(l)+'}')\n",
    "        sym = sym*xi**i\n",
    "        integrand += sym\n",
    "    lhs_condition = integrate(integrand,(xi,(l-1/2,l+1/2)))\n",
    "    return integrand,lhs_condition"
   ]
  },
  {
   "cell_type": "code",
   "execution_count": 26,
   "metadata": {},
   "outputs": [
    {
     "data": {
      "image/png": "[encoded data removed]",
      "text/latex": [
       "$\\displaystyle \\left( 1.0 a_{0,3} + a_{1,3} \\xi + a_{2,3} \\left(\\xi^{2} - 0.0833333333333333\\right) + a_{3,3} \\left(\\xi^{3} - 0.15 \\xi\\right) + a_{4,3} \\left(\\xi^{4} - 0.214285714285714 \\xi^{2} + 0.00535714285714286\\right), \\  1.0 a_{0,3} + 3.0 a_{1,3} + 9.0 a_{2,3} + 27.3 a_{3,3} + 83.5714285714286 a_{4,3}\\right)$"
      ],
      "text/plain": [
       "                                    /  2                     \\           /  3          \\           /  4                       2                      \\                                                                                    \n",
       "(1.0*a_{0,3} + a_{1,3}*xi + a_{2,3}*\\xi  - 0.0833333333333333/ + a_{3,3}*\\xi  - 0.15*xi/ + a_{4,3}*\\xi  - 0.214285714285714*xi  + 0.00535714285714286/, 1.0*a_{0,3} + 3.0*a_{1,3} + 9.0*a_{2,3} + 27.3*a_{3,3} + 83.5714285714286*a_{4,3})"
      ]
     },
     "execution_count": 26,
     "metadata": {},
     "output_type": "execute_result"
    }
   ],
   "source": [
    "gen_condn(4,3)"
   ]
  },
  {
   "cell_type": "markdown",
   "metadata": {},
   "source": [
    "Okay, we have successfuly built an algorithm that generates polynomials with symbolic coefficients in monomials. But, we want to do it in Legendre basis. So, we write them explicity."
   ]
  },
  {
   "cell_type": "code",
   "execution_count": 20,
   "metadata": {},
   "outputs": [],
   "source": [
    "import sys\n",
    "def leg(degree,xi):\n",
    "    n = degree\n",
    "    if n==0:\n",
    "        return 1.0 + xi*0.0\n",
    "    elif n==1:\n",
    "        return xi\n",
    "    elif n==2:\n",
    "        return xi**2-1.0/12.0\n",
    "    elif n==3:\n",
    "        return xi**3 - (3.0/20.0)*xi\n",
    "    elif n==4:\n",
    "        return xi**4 - (3.0/14.0)*xi**2 + (3.0/560.0)\n",
    "    else:\n",
    "        exit_message = \"Degree \"+str(n)+\" Legendre polynomial not implemented\"\n",
    "        sys.exit(exit_message)"
   ]
  },
  {
   "cell_type": "code",
   "execution_count": 61,
   "metadata": {},
   "outputs": [],
   "source": [
    "def gen_condn(degree, centre):\n",
    "    def coeff_gen(expression):\n",
    "        coefficients_output = np.zeros(degree+1)\n",
    "        for i in range(0,degree+1):\n",
    "            coefficients_output[i]=expression.coeff('a_'+str(i))\n",
    "        return coefficients_output\n",
    "    k = degree\n",
    "    l = centre\n",
    "    xi  = Symbol('xi')\n",
    "    init_printing(use_unicode=False, wrap_line=False)\n",
    "    integrand = 0*xi\n",
    "    for i in range(0,k+1):\n",
    "        sym = Symbol('a_'+str(i))\n",
    "        sym = sym*leg(i,xi)\n",
    "        integrand += sym\n",
    "    lhs_condition = integrate(integrand,(xi,(l-1/2,l+1/2)))\n",
    "    return coeff_gen(lhs_condition)"
   ]
  },
  {
   "cell_type": "code",
   "execution_count": 66,
   "metadata": {},
   "outputs": [
    {
     "data": {
      "text/plain": [
       "array([ 1., -1.,  1.])"
      ]
     },
     "execution_count": 66,
     "metadata": {},
     "output_type": "execute_result"
    }
   ],
   "source": [
    "gen_condn(2,-1)"
   ]
  },
  {
   "cell_type": "markdown",
   "metadata": {},
   "source": [
    "We'd write a program that generates coefficients around centre of centres `coc`\n",
    "\n",
    "If degree is odd, there is no centre of centres. So, the variable `coc` is one place to the right of where centre would be. "
   ]
  },
  {
   "cell_type": "code",
   "execution_count": 303,
   "metadata": {},
   "outputs": [],
   "source": [
    "def get_coeffs(degree,coc):\n",
    "    k = degree\n",
    "    if k%2==0:\n",
    "        #centres are coc-k/2,...,coc+k/2\n",
    "        centres = np.arange(start = coc-k/2,stop = coc+k/2+1)\n",
    "    else:\n",
    "        #centres are coc-(k-1)/2,...,coc+(k-1)/2\n",
    "        centres = np.arange(start = coc-(k-1)/2-1,stop = coc + (k-1)/2+1)\n",
    "    lhs = np.zeros([k+1,k+1])\n",
    "    rhs = sympy.zeros(k+1,1)\n",
    "    row_number = 0\n",
    "    for centre in centres:\n",
    "        lhs[row_number,:]=gen_condn(degree,centre)\n",
    "        rhs[row_number,0] = Symbol('f_'+str(int(centre)))\n",
    "        row_number += 1\n",
    "    coeffs = np.linalg.inv(lhs)*rhs\n",
    "    xi  = Symbol('xi')\n",
    "    H = 0*xi\n",
    "    init_printing(use_unicode=False, wrap_line=False)\n",
    "    for i in range(0,k+1):\n",
    "        H += coeffs[i]*leg(i,xi)\n",
    "    return H"
   ]
  },
  {
   "cell_type": "code",
   "execution_count": 304,
   "metadata": {},
   "outputs": [
    {
     "data": {
      "image/png": "[encoded data removed]",
      "text/latex": [
       "$\\displaystyle 1.0 f_{0} + \\xi \\left(- 2.0 f_{-1} + 0.5 f_{-2} + 1.5 f_{0}\\right) + \\left(\\xi^{2} - 0.0833333333333333\\right) \\left(- 1.0 f_{-1} + 0.5 f_{-2} + 0.5 f_{0}\\right)$"
      ],
      "text/plain": [
       "                                                /  2                     \\                                 \n",
       "1.0*f_0 + xi*(-2.0*f_-1 + 0.5*f_-2 + 1.5*f_0) + \\xi  - 0.0833333333333333/*(-1.0*f_-1 + 0.5*f_-2 + 0.5*f_0)"
      ]
     },
     "execution_count": 304,
     "metadata": {},
     "output_type": "execute_result"
    }
   ],
   "source": [
    "get_coeffs(2,-1)"
   ]
  },
  {
   "cell_type": "code",
   "execution_count": 76,
   "metadata": {},
   "outputs": [],
   "source": [
    "a[1,:] = np.ones(2)"
   ]
  },
  {
   "cell_type": "code",
   "execution_count": 123,
   "metadata": {},
   "outputs": [],
   "source": [
    "lhs = get_condns(2,0)"
   ]
  },
  {
   "cell_type": "code",
   "execution_count": 129,
   "metadata": {},
   "outputs": [],
   "source": [
    "from sympy import Array"
   ]
  },
  {
   "cell_type": "code",
   "execution_count": 140,
   "metadata": {},
   "outputs": [],
   "source": [
    "f0,f1,f2 = symbols('f_0'),symbols('f_1'),symbols('f_2')"
   ]
  },
  {
   "cell_type": "code",
   "execution_count": 173,
   "metadata": {},
   "outputs": [
    {
     "data": {
      "text/latex": [
       "$\\displaystyle \\left[\\begin{matrix}0\\\\0\\end{matrix}\\right]$"
      ],
      "text/plain": [
       "[0]\n",
       "[ ]\n",
       "[0]"
      ]
     },
     "execution_count": 173,
     "metadata": {},
     "output_type": "execute_result"
    }
   ],
   "source": [
    "import sympy\n",
    "sympy.zeros(2,1)"
   ]
  },
  {
   "cell_type": "code",
   "execution_count": 270,
   "metadata": {},
   "outputs": [],
   "source": [
    "c1 = Symbol('c1')\n",
    "c2 = Symbol('c2')\n",
    "c3 = Symbol('c3')"
   ]
  },
  {
   "cell_type": "code",
   "execution_count": 299,
   "metadata": {},
   "outputs": [],
   "source": [
    "lhs1,lhs2,lhs3 = get_coeffs(2,-1),get_coeffs(2,0),get_coeffs(2,1)"
   ]
  },
  {
   "cell_type": "code",
   "execution_count": 300,
   "metadata": {},
   "outputs": [],
   "source": [
    "lhs = (c1*lhs1 + c2*lhs2+c3*lhs3).subs(xi,0.5)"
   ]
  },
  {
   "cell_type": "code",
   "execution_count": 281,
   "metadata": {},
   "outputs": [
    {
     "data": {
      "text/plain": [
       "\"Add(Mul(Symbol('c1'), Add(Mul(Integer(-1), Float('1.1666666666666667', precision=53), Symbol('f_-1')), Mul(Float('0.33333333333333337', precision=53), Symbol('f_-2')), Mul(Float('1.8333333333333333', precision=53), Symbol('f_0')))), Mul(Symbol('c2'), Add(Mul(Integer(-1), Float('0.16666666666666666', precision=53), Symbol('f_-1')), Mul(Float('0.83333333333333326', precision=53), Symbol('f_0')), Mul(Float('0.33333333333333337', precision=53), Symbol('f_1')))), Mul(Symbol('c3'), Add(Mul(Float('0.33333333333333337', precision=53), Symbol('f_0')), Mul(Float('0.83333333333333326', precision=53), Symbol('f_1')), Mul(Integer(-1), Float('0.16666666666666666', precision=53), Symbol('f_2')))))\""
      ]
     },
     "execution_count": 281,
     "metadata": {},
     "output_type": "execute_result"
    }
   ],
   "source": [
    "sympy.srepr(lhs)"
   ]
  },
  {
   "cell_type": "code",
   "execution_count": 309,
   "metadata": {},
   "outputs": [
    {
     "name": "stdout",
     "output_type": "stream",
     "text": [
      "{f_1, c2, f_0, f_-1, c3, f_2, f_-2, c1}\n"
     ]
    }
   ],
   "source": [
    "print(lhs.atoms(Symbol))"
   ]
  },
  {
   "cell_type": "code",
   "execution_count": 289,
   "metadata": {},
   "outputs": [],
   "source": [
    "rhs = get_coeffs(4,0)"
   ]
  },
  {
   "cell_type": "code",
   "execution_count": 226,
   "metadata": {},
   "outputs": [],
   "source": [
    "from sympy import symbols, Eq, solve \n",
    "eqn = Eq(c1*lhs1.subs(xi,0.5)+c2*lhs2.subs(xi,0.5)+c3*lhs3.subs(xi,0.5),rhs.subs(xi,0.5))"
   ]
  },
  {
   "cell_type": "code",
   "execution_count": 227,
   "metadata": {},
   "outputs": [
    {
     "data": {
      "image/png": "[encoded data removed]",
      "text/latex": [
       "$\\displaystyle c_{1} \\left(- 1.16666666666667 f_{-1} + 0.333333333333333 f_{-2} + 1.83333333333333 f_{0}\\right) + c_{2} \\left(- 0.166666666666667 f_{-1} + 0.833333333333333 f_{0} + 0.333333333333333 f_{1}\\right) + c_{3} \\left(0.333333333333333 f_{0} + 0.833333333333333 f_{1} - 0.166666666666667 f_{2}\\right) = - 0.216666666666667 f_{-1} + 0.0333333333333333 f_{-2} + 0.783333333333333 f_{0} + 0.45 f_{1} - 0.05 f_{2}$"
      ],
      "text/plain": [
       "c1*(-1.16666666666667*f_-1 + 0.333333333333333*f_-2 + 1.83333333333333*f_0) + c2*(-0.166666666666667*f_-1 + 0.833333333333333*f_0 + 0.333333333333333*f_1) + c3*(0.333333333333333*f_0 + 0.833333333333333*f_1 - 0.166666666666667*f_2) = -0.216666666666667*f_-1 + 0.0333333333333333*f_-2 + 0.783333333333333*f_0 + 0.45*f_1 - 0.05*f_2"
      ]
     },
     "execution_count": 227,
     "metadata": {},
     "output_type": "execute_result"
    }
   ],
   "source": [
    "eqn"
   ]
  },
  {
   "cell_type": "markdown",
   "metadata": {},
   "source": [
    "Thus, $0.3333*c_1 = 0.03333f_{-2}, -0.16666*c_3 = -0.05*f_2$"
   ]
  },
  {
   "cell_type": "code",
   "execution_count": 268,
   "metadata": {},
   "outputs": [],
   "source": [
    "c1 = 0.0333333333333333/0.333333333333333; c3 = -0.05/-0.166666666666667"
   ]
  },
  {
   "cell_type": "code",
   "execution_count": 231,
   "metadata": {},
   "outputs": [],
   "source": [
    "eqn = Eq(c1*lhs1.subs(xi,0.5)+c2*lhs2.subs(xi,0.5)+c3*lhs3.subs(xi,0.5),rhs.subs(xi,0.5))"
   ]
  },
  {
   "cell_type": "code",
   "execution_count": 235,
   "metadata": {},
   "outputs": [],
   "source": [
    "sym = solve(eqn,c2)"
   ]
  },
  {
   "cell_type": "code",
   "execution_count": 236,
   "metadata": {},
   "outputs": [
    {
     "data": {
      "image/png": "[encoded data removed]",
      "text/latex": [
       "$\\displaystyle \\left[ \\frac{- 0.600000000000001 f_{-1} - 2.4980018054066 \\cdot 10^{-16} f_{-2} + 3.0 f_{0} + 1.2 f_{1} - 4.9960036108132 \\cdot 10^{-16} f_{2}}{- f_{-1} + 5.0 f_{0} + 2.0 f_{1}}\\right]$"
      ],
      "text/plain": [
       " -0.600000000000001*f_-1 - 2.4980018054066e-16*f_-2 + 3.0*f_0 + 1.2*f_1 - 4.9960036108132e-16*f_2 \n",
       "[------------------------------------------------------------------------------------------------]\n",
       "                                    -f_-1 + 5.0*f_0 + 2.0*f_1                                     "
      ]
     },
     "execution_count": 236,
     "metadata": {},
     "output_type": "execute_result"
    }
   ],
   "source": [
    "sym"
   ]
  },
  {
   "cell_type": "code",
   "execution_count": 269,
   "metadata": {},
   "outputs": [
    {
     "name": "stdout",
     "output_type": "stream",
     "text": [
      "c1,c2,c3 =  0.1 , 0.6 , 0.29999999999999943\n"
     ]
    }
   ],
   "source": [
    "print(\"c1,c2,c3 = \",c1, \",\",c2,\",\",c3)"
   ]
  },
  {
   "cell_type": "code",
   "execution_count": 265,
   "metadata": {},
   "outputs": [],
   "source": [
    "c3 = 0.3"
   ]
  },
  {
   "cell_type": "markdown",
   "metadata": {},
   "source": [
    "Let's compare the two sides"
   ]
  },
  {
   "cell_type": "code",
   "execution_count": 266,
   "metadata": {},
   "outputs": [
    {
     "data": {
      "image/png": "[encoded data removed]",
      "text/latex": [
       "$\\displaystyle - 0.216666666666667 f_{-1} + 0.0333333333333333 f_{-2} + 0.783333333333333 f_{0} + 0.45 f_{1} - 0.05 f_{2}$"
      ],
      "text/plain": [
       "-0.216666666666667*f_-1 + 0.0333333333333333*f_-2 + 0.783333333333333*f_0 + 0.45*f_1 - 0.05*f_2"
      ]
     },
     "execution_count": 266,
     "metadata": {},
     "output_type": "execute_result"
    }
   ],
   "source": [
    "(c1*lhs1+c2*lhs2+c3*lhs3).subs(xi,0.5)"
   ]
  },
  {
   "cell_type": "code",
   "execution_count": 267,
   "metadata": {},
   "outputs": [
    {
     "data": {
      "image/png": "[encoded data removed]",
      "text/latex": [
       "$\\displaystyle - 0.216666666666667 f_{-1} + 0.0333333333333333 f_{-2} + 0.783333333333333 f_{0} + 0.45 f_{1} - 0.05 f_{2}$"
      ],
      "text/plain": [
       "-0.216666666666667*f_-1 + 0.0333333333333333*f_-2 + 0.783333333333333*f_0 + 0.45*f_1 - 0.05*f_2"
      ]
     },
     "execution_count": 267,
     "metadata": {},
     "output_type": "execute_result"
    }
   ],
   "source": [
    "rhs.subs(xi,0.5)"
   ]
  },
  {
   "cell_type": "markdown",
   "metadata": {},
   "source": [
    "The way to do it generally would be to to teach it to compare coefficients and then solve the equations that come out of comparing coefficients. That isn't hard."
   ]
  },
  {
   "cell_type": "code",
   "execution_count": null,
   "metadata": {},
   "outputs": [],
   "source": []
  }
 ],
 "metadata": {
  "kernelspec": {
   "display_name": "Python 3",
   "language": "python",
   "name": "python3"
  },
  "language_info": {
   "codemirror_mode": {
    "name": "ipython",
    "version": 3
   },
   "file_extension": ".py",
   "mimetype": "text/x-python",
   "name": "python",
   "nbconvert_exporter": "python",
   "pygments_lexer": "ipython3",
   "version": "3.8.5"
  }
 },
 "nbformat": 4,
 "nbformat_minor": 4
}
